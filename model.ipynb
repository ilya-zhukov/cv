{
 "cells": [
  {
   "cell_type": "markdown",
   "metadata": {},
   "source": [
    "## Модель для предсказания ключевых точек лица"
   ]
  },
  {
   "cell_type": "markdown",
   "metadata": {},
   "source": [
    "Запуск обучения модели почти бейслайн.\n",
    "hack_train.py hack_utils.py - скрипты модифицированы для дообучения модели"
   ]
  },
  {
   "cell_type": "code",
   "execution_count": null,
   "metadata": {},
   "outputs": [],
   "source": [
    "%run hack_train.py --name \"share_10_\" --data \"E:\\R\\made_cv_1\\data\" --epochs 1 --batch-size 128 --learning-rate 0.001 \\\n",
    "    --rounds 20 --not_final"
   ]
  },
  {
   "cell_type": "markdown",
   "metadata": {},
   "source": [
    "Затем запуск ноутбука clear_data.ipynb. Он очищает данные от ошибок в разметке, на основе предсказаний обученной выше модели."
   ]
  },
  {
   "cell_type": "markdown",
   "metadata": {},
   "source": [
    "После дообучение модели, со пониженным learning-rate, на последнем шаге прогноз."
   ]
  },
  {
   "cell_type": "code",
   "execution_count": null,
   "metadata": {},
   "outputs": [],
   "source": [
    "%run hack_train.py --name \"share_10_\" --data \"E:\\R\\made_cv_1\\data\" --epochs 1 --batch-size 256 --learing-rate 0.001 \\\n",
    "    --continue_calc --rounds 6  --not_final"
   ]
  },
  {
   "cell_type": "code",
   "execution_count": null,
   "metadata": {},
   "outputs": [],
   "source": [
    "%run hack_train.py --name \"share_10_\" --data \"E:\\R\\made_cv_1\\data\" --epochs 1 --batch-size 256 --learing-rate 0.0003 \\\n",
    "    --continue_calc --rounds 7"
   ]
  }
 ],
 "metadata": {
  "kernelspec": {
   "display_name": "Python 3",
   "language": "python",
   "name": "python3"
  },
  "language_info": {
   "codemirror_mode": {
    "name": "ipython",
    "version": 3
   },
   "file_extension": ".py",
   "mimetype": "text/x-python",
   "name": "python",
   "nbconvert_exporter": "python",
   "pygments_lexer": "ipython3",
   "version": "3.7.4"
  }
 },
 "nbformat": 4,
 "nbformat_minor": 4
}
